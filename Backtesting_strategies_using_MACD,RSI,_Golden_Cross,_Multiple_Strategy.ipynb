{
 "cells": [
  {
   "cell_type": "code",
   "execution_count": 1,
   "metadata": {
    "id": "nncd4vLc_rDm"
   },
   "outputs": [
    {
     "name": "stdout",
     "output_type": "stream",
     "text": [
      "Requirement already satisfied: backtrader in c:\\users\\shesh\\appdata\\local\\programs\\python\\python39\\lib\\site-packages (1.9.76.123)\n"
     ]
    },
    {
     "name": "stderr",
     "output_type": "stream",
     "text": [
      "WARNING: There was an error checking the latest version of pip.\n"
     ]
    },
    {
     "name": "stdout",
     "output_type": "stream",
     "text": [
      "Requirement already satisfied: yfinance in c:\\users\\shesh\\appdata\\local\\programs\\python\\python39\\lib\\site-packages (0.1.67)"
     ]
    },
    {
     "name": "stderr",
     "output_type": "stream",
     "text": [
      "WARNING: There was an error checking the latest version of pip.\n"
     ]
    },
    {
     "name": "stdout",
     "output_type": "stream",
     "text": [
      "\n",
      "Requirement already satisfied: requests>=2.20 in c:\\users\\shesh\\appdata\\local\\programs\\python\\python39\\lib\\site-packages (from yfinance) (2.27.1)\n",
      "Requirement already satisfied: multitasking>=0.0.7 in c:\\users\\shesh\\appdata\\local\\programs\\python\\python39\\lib\\site-packages (from yfinance) (0.0.10)\n",
      "Requirement already satisfied: numpy>=1.15 in c:\\users\\shesh\\appdata\\local\\programs\\python\\python39\\lib\\site-packages (from yfinance) (1.19.5)\n",
      "Requirement already satisfied: pandas>=0.24 in c:\\users\\shesh\\appdata\\local\\programs\\python\\python39\\lib\\site-packages (from yfinance) (1.2.4)\n",
      "Requirement already satisfied: lxml>=4.5.1 in c:\\users\\shesh\\appdata\\local\\programs\\python\\python39\\lib\\site-packages (from yfinance) (4.7.1)\n",
      "Requirement already satisfied: python-dateutil>=2.7.3 in c:\\users\\shesh\\appdata\\local\\programs\\python\\python39\\lib\\site-packages (from pandas>=0.24->yfinance) (2.8.1)\n",
      "Requirement already satisfied: pytz>=2017.3 in c:\\users\\shesh\\appdata\\local\\programs\\python\\python39\\lib\\site-packages (from pandas>=0.24->yfinance) (2021.1)\n",
      "Requirement already satisfied: certifi>=2017.4.17 in c:\\users\\shesh\\appdata\\local\\programs\\python\\python39\\lib\\site-packages (from requests>=2.20->yfinance) (2020.12.5)\n",
      "Requirement already satisfied: charset-normalizer~=2.0.0 in c:\\users\\shesh\\appdata\\local\\programs\\python\\python39\\lib\\site-packages (from requests>=2.20->yfinance) (2.0.12)\n",
      "Requirement already satisfied: idna<4,>=2.5 in c:\\users\\shesh\\appdata\\local\\programs\\python\\python39\\lib\\site-packages (from requests>=2.20->yfinance) (2.10)\n",
      "Requirement already satisfied: urllib3<1.27,>=1.21.1 in c:\\users\\shesh\\appdata\\local\\programs\\python\\python39\\lib\\site-packages (from requests>=2.20->yfinance) (1.26.4)\n",
      "Requirement already satisfied: six>=1.5 in c:\\users\\shesh\\appdata\\local\\programs\\python\\python39\\lib\\site-packages (from python-dateutil>=2.7.3->pandas>=0.24->yfinance) (1.15.0)\n"
     ]
    }
   ],
   "source": [
    "!pip install backtrader\n",
    "!pip install yfinance"
   ]
  },
  {
   "cell_type": "code",
   "execution_count": 2,
   "metadata": {
    "colab": {
     "base_uri": "https://localhost:8080/"
    },
    "id": "02RojyfKHyBq",
    "outputId": "8658d033-7d16-4a00-89d3-b7fd86536832"
   },
   "outputs": [
    {
     "ename": "ModuleNotFoundError",
     "evalue": "No module named 'google.colab'",
     "output_type": "error",
     "traceback": [
      "\u001b[1;31m---------------------------------------------------------------------------\u001b[0m",
      "\u001b[1;31mModuleNotFoundError\u001b[0m                       Traceback (most recent call last)",
      "\u001b[1;32m<ipython-input-2-bf1647b42bbd>\u001b[0m in \u001b[0;36m<module>\u001b[1;34m\u001b[0m\n\u001b[1;32m----> 1\u001b[1;33m \u001b[1;32mfrom\u001b[0m \u001b[0mgoogle\u001b[0m\u001b[1;33m.\u001b[0m\u001b[0mcolab\u001b[0m \u001b[1;32mimport\u001b[0m \u001b[0mdrive\u001b[0m\u001b[1;33m\u001b[0m\u001b[1;33m\u001b[0m\u001b[0m\n\u001b[0m\u001b[0;32m      2\u001b[0m \u001b[0mdrive\u001b[0m\u001b[1;33m.\u001b[0m\u001b[0mmount\u001b[0m\u001b[1;33m(\u001b[0m\u001b[1;34m\"/content/drive\"\u001b[0m\u001b[1;33m)\u001b[0m\u001b[1;33m\u001b[0m\u001b[1;33m\u001b[0m\u001b[0m\n",
      "\u001b[1;31mModuleNotFoundError\u001b[0m: No module named 'google.colab'"
     ]
    }
   ],
   "source": [
    "from google.colab import drive\n",
    "drive.mount(\"/content/drive\")"
   ]
  },
  {
   "cell_type": "code",
   "execution_count": null,
   "metadata": {
    "colab": {
     "base_uri": "https://localhost:8080/"
    },
    "id": "GqgrFCwMH_KL",
    "outputId": "d6ba0a9c-fd65-4bda-e607-4d18cf9a3723"
   },
   "outputs": [],
   "source": [
    "%cd /content/drive/MyDrive/Colab Notebooks/Quant/Backtrader"
   ]
  },
  {
   "cell_type": "code",
   "execution_count": null,
   "metadata": {
    "id": "xRzcBu5W_3s3"
   },
   "outputs": [],
   "source": [
    "import backtrader as bt \n",
    "import datetime\n",
    "import yfinance as yf\n",
    "from matplotlib import pyplot as plt"
   ]
  },
  {
   "cell_type": "markdown",
   "metadata": {
    "id": "yQ2lkn6COQlZ"
   },
   "source": [
    "# ***RSI Strategy***"
   ]
  },
  {
   "cell_type": "code",
   "execution_count": null,
   "metadata": {
    "id": "CAxcUcqSEbmg"
   },
   "outputs": [],
   "source": [
    "class RSIStrategy(bt.Strategy):\n",
    "\n",
    "  params = (\n",
    "    ('maperiod', 15),\n",
    "    ) #Window size for RSI\n",
    "  def log(self, text): #Function to print out log details (Closing price & Date)\n",
    "    dt = self.datas[0].datetime.date(0)\n",
    "    print(dt.isoformat(), text) \n",
    "    \n",
    "  def __init__(self):\n",
    "    self.dataclose = self.datas[0].close\n",
    "    self.order = None\n",
    "    self.rsi = bt.indicators.RSI(self.datas[0]) #Initialise the inidicator RSI\n",
    "\n",
    "  def notify_order(self, order): #Notify the user when a new order is executed/cancelled\n",
    "    if order.status in [order.Submitted, order.Accepted]: #If order status is accepted/submitted, no need to notify as it is not yet executed.\n",
    "      return\n",
    "        \n",
    "    if order.status in [order.Completed]: #If order is executed then notify the user\n",
    "      if order.isbuy(): #If buy order\n",
    "        self.log('BUY EXECUTED :Price- %2f, Cost- %2f, Commission- %2f' % (order.executed.price, order.executed.value, order.executed.comm))\n",
    "      elif order.issell(): #If sell order\n",
    "        self.log('SELL EXECUTED :Price- %2f, Cost- %2f, Commission- %2f' % (order.executed.price, order.executed.value, order.executed.comm))\n",
    "      self.bar_executed = len(self)\n",
    "\n",
    "    elif order.status in [order.Canceled, order.Margin, order.Rejected]: #If order is cancelled, notify the same\n",
    "      self.log('ORDER CANCELLED/ MARGIN/ REJECTED')\n",
    "    self.order = None\n",
    "\n",
    "\n",
    "  def notify_trade(self, trade): #Notify the user about profits after squarring off a trade\n",
    "    if not trade.isclosed: \n",
    "      return\n",
    "    self.log('OPERATION PROFIT: GROSS- %2f, NET- %2f' % (trade.pnl, trade.pnlcomm))\n",
    "    \n",
    "  def next(self):\n",
    "    if self.order: #if order is pending, cant send another order, go ahead to next day\n",
    "      return\n",
    "\n",
    "    #if we are not in market position, we might buyp\n",
    "    if not self.position:\n",
    "      if self.rsi[0] <30:\n",
    "        self.log('BUY CREATE - %2f' % self.dataclose[0])\n",
    "        self.order = self.buy() #place a buy order, notify_order is executed for buy\n",
    "      if self.rsi > 70:\n",
    "        self.log('SELL CREATE - %2f' % self.dataclose[0])\n",
    "        self.order = self.buy() #place a buy order, notify_order is executed for buy\n",
    "        \n",
    "    else: #we might sell\n",
    "      if self.order == None and self.broker.get_value() > self.dataclose and self.rsi <30:\n",
    "        #this block is to accommodate muptiple positions at the same time irrespective of our market position\n",
    "        self.log('BUY CREATE - %2f' % self.dataclose[0])\n",
    "        self.order = self.buy() #place a buy order, notify_order is executed for buy \n",
    "      if self.rsi[0] > 70:\n",
    "        self.log('SELL CREATE - %2f' % self.dataclose[0])\n",
    "        self.order = self.sell() #place a sell order, notify_order is executed for sell"
   ]
  },
  {
   "cell_type": "code",
   "execution_count": null,
   "metadata": {
    "colab": {
     "base_uri": "https://localhost:8080/",
     "height": 1000
    },
    "id": "S_BPkxvjFGaE",
    "outputId": "928e4dc8-b37b-4ee0-85c6-e8c067f8cde3"
   },
   "outputs": [],
   "source": [
    "cerebro_rsi = bt.Cerebro() #Initialise the bot\n",
    "\n",
    "#add the strategy\n",
    "cerebro_rsi.addstrategy(RSIStrategy)\n",
    "#sets the sub-folder from where data feed will be collected\n",
    "datapath = 'AAPL.csv'\n",
    "#set the data feed\n",
    "data = bt.feeds.PandasData(dataname=yf.download('AAPL', '2021-01-01', '2021-04-01'))\n",
    "\n",
    "cerebro_rsi.adddata(data) #add data feed to engine\n",
    "\n",
    "cerebro_rsi.broker.setcash(50000.0) #Set initial portfolio size\n",
    "cerebro_rsi.broker.setcommission(commission=0.001) #Broker commission set as 0.1%\n",
    "cerebro_rsi.addsizer(bt.sizers.FixedSize, stake = 10) #No of shares transacted during an order, can be manually specified in the buy() or sell() function\n",
    "initial = cerebro_rsi.broker.get_value()\n",
    "print('INITIAL PORTFOLIO VALUE: ',initial) #print initial portfolio value\n",
    "cerebro_rsi.run()\n",
    "final = cerebro_rsi.broker.get_value()\n",
    "print('\\n\\nFINAL PORTFOLIO VALUE: ',final) #print final portfolio value\n",
    "print('PROFIT: ', (final - initial)*100/initial, '%') #print profit\n",
    "figure = plt.gcf()\n",
    "figure.set_size_inches(10,5)\n",
    "cerebro_rsi.plot()[0][0].savefig('figure_RSI.png', dpi=300) #save figure as image file"
   ]
  },
  {
   "cell_type": "markdown",
   "metadata": {
    "id": "knf-75XuShUl"
   },
   "source": [
    "# ***MULTIPLE INDICATOR STRATEGY***\n",
    "Buy when:\n",
    "\n",
    "1. Closes above the top line of Bolinger Band (period = 20)\n",
    "2. RSI > 50\n",
    "3. Volume > SMA(Volume, period = 12)\n",
    "\n",
    "Sell when:\n",
    "1. Closes below bottom line of Bollinger Band\n",
    "2. RSI < 50"
   ]
  },
  {
   "cell_type": "code",
   "execution_count": null,
   "metadata": {
    "id": "TewUemOgTFgP"
   },
   "outputs": [],
   "source": [
    "class MultipleStrategy(bt.Strategy):\n",
    "\n",
    "  params = (('BBandsperiod', 20), ('VolumePeriod', 12),)\n",
    "  def log(self, text):\n",
    "    dt = self.datas[0].datetime.date(0)\n",
    "    print(dt.isoformat(), text)\n",
    "    \n",
    "  def __init__(self):\n",
    "    self.dataclose = self.datas[0].close\n",
    "    self.order = None\n",
    "    self.rsi = bt.indicators.RSI(self.datas[0])\n",
    "    self.bband = bt.indicators.BBands(self.datas[0], period=self.params.BBandsperiod)\n",
    "    self.volume_sma = bt.indicators.SMA(self.datas[0].volume, period = self.params.VolumePeriod)\n",
    "    self.topline = None\n",
    "    self.botline = None\n",
    "\n",
    "\n",
    "  def notify_order(self, order):\n",
    "    if order.status in [order.Submitted, order.Accepted]:\n",
    "      return\n",
    "        \n",
    "    if order.status in [order.Completed]:\n",
    "      if order.isbuy():\n",
    "        self.log('BUY EXECUTED :Price- %2f, Cost- %2f, Commission- %2f' % (order.executed.price, order.executed.value, order.executed.comm))\n",
    "      elif order.issell():\n",
    "        self.log('SELL EXECUTED :Price- %2f, Cost- %2f, Commission- %2f' % (order.executed.price, order.executed.value, order.executed.comm))\n",
    "      self.bar_executed = len(self)\n",
    "\n",
    "    elif order.status in [order.Canceled, order.Margin, order.Rejected]:\n",
    "      self.log('ORDER CANCELLED/ MARGIN/ REJECTED')\n",
    "    self.order = None\n",
    "\n",
    "\n",
    "  def notify_trade(self, trade):\n",
    "    if not trade.isclosed:\n",
    "      return\n",
    "    self.log('OPERATION PROFIT: GROSS- %2f, NET- %2f' % (trade.pnl, trade.pnlcomm))\n",
    "  \n",
    "    \n",
    "  def next(self):\n",
    "    if self.order: #if order is pending, cant send another order, go ahead to next day\n",
    "      return\n",
    "\n",
    "    if self.dataclose[0] > self.bband.lines.top:\n",
    "      self.topline = True\n",
    "    if self.dataclose[0] < self.bband.lines.bot:\n",
    "      self.botline = True\n",
    "\n",
    "    #if we are not in market, we might buyp\n",
    "    if not self.position:\n",
    "      if self.topline and self.rsi > 50 and self.volume_sma > self.datas[0].volume:\n",
    "        self.log('BUY CREATE - %2f' % self.dataclose[0])\n",
    "        self.order = self.buy() #notify_order is executed for buy\n",
    "      if self.botline and self.rsi <50:\n",
    "        self.log('SELL CREATE - %2f' % self.dataclose[0])\n",
    "        self.order = self.buy()\n",
    "        \n",
    "    else: #we might sell\n",
    "      if self.order == None and self.broker.get_value() > self.dataclose and self.topline and self.rsi > 50 and self.volume_sma > self.datas[0].volume:\n",
    "        self.log('BUY CREATE - %2f' % self.dataclose[0])\n",
    "        self.order = self.buy()\n",
    "      if self.botline and self.rsi <50:\n",
    "        self.log('SELL CREATE - %2f' % self.dataclose[0])\n",
    "        self.order = self.sell()"
   ]
  },
  {
   "cell_type": "code",
   "execution_count": null,
   "metadata": {
    "colab": {
     "base_uri": "https://localhost:8080/",
     "height": 1000
    },
    "id": "Y0kLbwpyWIIn",
    "outputId": "62f9179a-2b73-464f-a9fb-c2d585297cf1"
   },
   "outputs": [],
   "source": [
    "cerebro_multi = bt.Cerebro()\n",
    "\n",
    "#add the strategy\n",
    "cerebro_multi.addstrategy(MultipleStrategy)\n",
    "#sets the sub-folder from where data feed will be collected\n",
    "datapath = 'AAPL.csv'\n",
    "#set the data feed\n",
    "data = bt.feeds.PandasData(dataname=yf.download('AAPL', '2021-01-01', '2021-04-01'))\n",
    "\n",
    "cerebro_multi.adddata(data) #add to engine\n",
    "\n",
    "cerebro_multi.broker.setcash(50000.0)\n",
    "cerebro_multi.broker.setcommission(commission=0.001) #0.1%\n",
    "cerebro_multi.addsizer(bt.sizers.FixedSize, stake = 10)\n",
    "initial = cerebro_multi.broker.get_value()\n",
    "print('INITIAL PORTFOLIO VALUE: ',initial)\n",
    "cerebro_multi.run()\n",
    "final = cerebro_multi.broker.get_value()\n",
    "print('\\n\\nFINAL PORTFOLIO VALUE: ',final)\n",
    "print('PROFIT: ', (final - initial)*100/initial, '%')\n",
    "figure = plt.gcf()\n",
    "# figure.set_size_inches(20,20)\n",
    "# cerebro_multi.plot()[0][0].savefig('figure_MultipleStrategy.png', dpi=100)"
   ]
  },
  {
   "cell_type": "code",
   "execution_count": null,
   "metadata": {
    "id": "jLiBhnyGmp3R"
   },
   "outputs": [],
   "source": [
    "class GoldenCross(bt.Strategy):\n",
    "\n",
    "  params = (('fast', 50), ('slow', 100),('ticker', 'AAPL'),('order_percentage',0.95))\n",
    "  def log(self, text): #Function to print out log details (Closing price & Date)\n",
    "    dt = self.datas[0].datetime.date(0)\n",
    "    print(dt.isoformat(), text) \n",
    "\n",
    "  def __init__(self):\n",
    "    self.dataclose = self.datas[0].close\n",
    "    self.order = None\n",
    "    self.fast_moving_average=bt.indicators.SMA(\n",
    "        self.data.close,period=self.params.fast,plotname='50 day moving average'\n",
    "    )\n",
    "    self.slow_moving_average=bt.indicators.SMA(\n",
    "        self.data.close,period=self.params.slow,plotname='200 day moving average'\n",
    "    )\n",
    "    self.crossover=bt.indicators.CrossOver(self.fast_moving_average,self.slow_moving_average)\n",
    "\n",
    "  def notify_order(self, order): #Notify the user when a new order is executed/cancelled\n",
    "    if order.status in [order.Submitted, order.Accepted]: #If order status is accepted/submitted, no need to notify as it is not yet executed.\n",
    "      return\n",
    "        \n",
    "    if order.status in [order.Completed]: #If order is executed then notify the user\n",
    "      if order.isbuy(): #If buy order\n",
    "        self.log('BUY EXECUTED :Price- %2f, Cost- %2f, Commission- %2f' % (order.executed.price, order.executed.value, order.executed.comm))\n",
    "      elif order.issell(): #If sell order\n",
    "        self.log('SELL EXECUTED :Price- %2f, Cost- %2f, Commission- %2f' % (order.executed.price, order.executed.value, order.executed.comm))\n",
    "      self.bar_executed = len(self)\n",
    "\n",
    "    elif order.status in [order.Canceled, order.Margin, order.Rejected]: #If order is cancelled, notify the same\n",
    "      self.log('ORDER CANCELLED/ MARGIN/ REJECTED')\n",
    "    self.order = None\n",
    "\n",
    "  def next(self):\n",
    "    if self.order: #if order is pending, cant send another order, go ahead to next day\n",
    "      return\n",
    "\n",
    "    #if we are not in market position, we might buyp\n",
    "    if not self.position:\n",
    "      if self.crossover >0:\n",
    "        self.log('BUY CREATE - %2f' % self.dataclose[0])\n",
    "        self.order = self.buy() #place a buy order, notify_order is executed for buy\n",
    "      if self.crossover < 0:\n",
    "        self.log('SELL CREATE - %2f' % self.dataclose[0])\n",
    "        self.order = self.buy() #place a buy order, notify_order is executed for buy\n",
    "        \n",
    "    else: #we might sell\n",
    "      if self.order == None and self.broker.get_value() > self.dataclose and self.crossover >0:\n",
    "        #this block is to accommodate muptiple positions at the same time irrespective of our market position\n",
    "        self.log('BUY CREATE - %2f' % self.dataclose[0])\n",
    "        self.order = self.buy() #place a buy order, notify_order is executed for buy \n",
    "      if self.crossover < 0:\n",
    "        self.log('SELL CREATE - %2f' % self.dataclose[0])\n",
    "        self.order = self.sell() #place a sell order, notify_order is executed for sell"
   ]
  },
  {
   "cell_type": "code",
   "execution_count": null,
   "metadata": {
    "colab": {
     "base_uri": "https://localhost:8080/",
     "height": 579
    },
    "id": "dtmlwxqgp4fA",
    "outputId": "5d453af0-5c7f-447b-c1da-a51fa82600fe"
   },
   "outputs": [],
   "source": [
    "cerebro_rsi = bt.Cerebro() #Initialise the bot\n",
    "\n",
    "#add the strategy\n",
    "cerebro_rsi.addstrategy(GoldenCross)\n",
    "#sets the sub-folder from where data feed will be collected\n",
    "datapath = 'AAPL.csv'\n",
    "#set the data feed\n",
    "data = bt.feeds.PandasData(dataname=yf.download('AAPL', '2021-01-01', '2021-04-01'))\n",
    "\n",
    "cerebro_rsi.adddata(data) #add data feed to engine\n",
    "\n",
    "cerebro_rsi.broker.setcash(50000.0) #Set initial portfolio size\n",
    "cerebro_rsi.broker.setcommission(commission=0.001) #Broker commission set as 0.1%\n",
    "cerebro_rsi.addsizer(bt.sizers.FixedSize, stake = 10) #No of shares transacted during an order, can be manually specified in the buy() or sell() function\n",
    "initial = cerebro_rsi.broker.get_value()\n",
    "print('INITIAL PORTFOLIO VALUE: ',initial) #print initial portfolio value\n",
    "cerebro_rsi.run()\n",
    "final = cerebro_rsi.broker.get_value()\n",
    "print('\\n\\nFINAL PORTFOLIO VALUE: ',final) #print final portfolio value\n",
    "print('PROFIT: ', (final - initial)*100/initial, '%') #print profit\n",
    "figure = plt.gcf()\n",
    "figure.set_size_inches(10,5)\n",
    "cerebro_rsi.plot()[0][0].savefig('figure_RSI.png', dpi=300) #save figure as image file"
   ]
  },
  {
   "cell_type": "code",
   "execution_count": null,
   "metadata": {
    "id": "UbcRnjWAsEW1"
   },
   "outputs": [],
   "source": [
    "class MACD(bt.Strategy):\n",
    "\n",
    "  params = (\n",
    "        # Standard MACD Parameters\n",
    "        ('macd1', 12),\n",
    "        ('macd2', 26),\n",
    "        ('macdsig', 9),\n",
    "        ('atrperiod', 14),  # ATR Period (standard)\n",
    "        ('atrdist', 3.0),   # ATR distance for stop price\n",
    "        ('smaperiod', 30),  # SMA Period (pretty standard)\n",
    "        ('dirperiod', 10),  # Lookback period to consider SMA trend direction\n",
    "    )\n",
    "  def log(self, text): #Function to print out log details (Closing price & Date)\n",
    "    dt = self.datas[0].datetime.date(0)\n",
    "    print(dt.isoformat(), text) \n",
    "\n",
    "  def __init__(self):\n",
    "    self.dataclose = self.datas[0].close\n",
    "    self.order = None\n",
    "    self.macd = bt.indicators.MACD(self.data,\n",
    "                                       period_me1=self.p.macd1,\n",
    "                                       period_me2=self.p.macd2,\n",
    "                                       period_signal=self.p.macdsig)\n",
    "\n",
    "        # Cross of macd.macd and macd.signal\n",
    "    self.mcross = bt.indicators.CrossOver(self.macd.macd, self.macd.signal)\n",
    "\n",
    "        # To set the stop price\n",
    "    self.atr = bt.indicators.ATR(self.data, period=self.p.atrperiod)\n",
    "\n",
    "        # Control market trend\n",
    "    self.sma = bt.indicators.SMA(self.data, period=self.p.smaperiod)\n",
    "    self.smadir = self.sma - self.sma(-self.p.dirperiod)\n",
    "\n",
    "  def notify_order(self, order): #Notify the user when a new order is executed/cancelled\n",
    "    if order.status in [order.Submitted, order.Accepted]: #If order status is accepted/submitted, no need to notify as it is not yet executed.\n",
    "      return\n",
    "        \n",
    "    if order.status in [order.Completed]: #If order is executed then notify the user\n",
    "      if order.isbuy(): #If buy order\n",
    "        self.log('BUY EXECUTED :Price- %2f, Cost- %2f, Commission- %2f' % (order.executed.price, order.executed.value, order.executed.comm))\n",
    "      elif order.issell(): #If sell order\n",
    "        self.log('SELL EXECUTED :Price- %2f, Cost- %2f, Commission- %2f' % (order.executed.price, order.executed.value, order.executed.comm))\n",
    "      self.bar_executed = len(self)\n",
    "\n",
    "    elif order.status in [order.Canceled, order.Margin, order.Rejected]: #If order is cancelled, notify the same\n",
    "      self.log('ORDER CANCELLED/ MARGIN/ REJECTED')\n",
    "    self.order = None\n",
    "\n",
    "  def next(self):\n",
    "    if self.order: #if order is pending, cant send another order, go ahead to next day\n",
    "      return\n",
    "\n",
    "    #if we are not in market position, we might buyp\n",
    "    if not self.position:\n",
    "      if self.mcross[0] > 0.0 and self.smadir < 0.0:\n",
    "        self.log('BUY CREATE - %2f' % self.dataclose[0])\n",
    "        self.order = self.buy() #place a buy order, notify_order is executed for buy\n",
    "        pdist = self.atr[0] * self.p.atrdist\n",
    "        self.pstop = self.data.close[0] - pdist\n",
    "      if self.mcross[0] < 0.0 and self.smadir > 0.0:\n",
    "        self.log('SELL CREATE - %2f' % self.dataclose[0])\n",
    "        self.order = self.buy() #place a buy order, notify_order is executed for buy\n",
    "        \n",
    "    else: #we might sell\n",
    "      if self.order == None and self.broker.get_value() > self.dataclose and self.mcross[0] > 0.0 and self.smadir < 0.0:\n",
    "        #this block is to accommodate muptiple positions at the same time irrespective of our market position\n",
    "        self.log('BUY CREATE - %2f' % self.dataclose[0])\n",
    "        self.order = self.buy() #place a buy order, notify_order is executed for buy \n",
    "      if self.mcross[0] < 0.0 and self.smadir > 0.0:\n",
    "        self.log('SELL CREATE - %2f' % self.dataclose[0])\n",
    "        self.order = self.sell() #place a sell order, notify_order is executed for sell"
   ]
  },
  {
   "cell_type": "code",
   "execution_count": null,
   "metadata": {
    "colab": {
     "base_uri": "https://localhost:8080/",
     "height": 1000
    },
    "id": "Vd0GlZJu1Px0",
    "outputId": "e30fe1f4-8430-42ca-e807-58acdc4baf37"
   },
   "outputs": [],
   "source": [
    "cerebro_rsi = bt.Cerebro() #Initialise the bot\n",
    "\n",
    "#add the strategy\n",
    "cerebro_rsi.addstrategy(MACD)\n",
    "#sets the sub-folder from where data feed will be collected\n",
    "datapath = 'AAPL.csv'\n",
    "#set the data feed\n",
    "data = bt.feeds.PandasData(dataname=yf.download('AAPL', '2021-01-01', '2021-04-01'))\n",
    "\n",
    "cerebro_rsi.adddata(data) #add data feed to engine\n",
    "\n",
    "cerebro_rsi.broker.setcash(50000.0) #Set initial portfolio size\n",
    "cerebro_rsi.broker.setcommission(commission=0.001) #Broker commission set as 0.1%\n",
    "cerebro_rsi.addsizer(bt.sizers.FixedSize, stake = 10) #No of shares transacted during an order, can be manually specified in the buy() or sell() function\n",
    "initial = cerebro_rsi.broker.get_value()\n",
    "print('INITIAL PORTFOLIO VALUE: ',initial) #print initial portfolio value\n",
    "cerebro_rsi.run()\n",
    "final = cerebro_rsi.broker.get_value()\n",
    "print('\\n\\nFINAL PORTFOLIO VALUE: ',final) #print final portfolio value\n",
    "print('PROFIT: ', (final - initial)*100/initial, '%') #print profit\n",
    "figure = plt.gcf()\n",
    "figure.set_size_inches(10,5)\n",
    "cerebro_rsi.plot()[0][0].savefig('figure_RSI.png', dpi=300) #save figure as image file"
   ]
  },
  {
   "cell_type": "code",
   "execution_count": null,
   "metadata": {
    "id": "cVtmMp353D0g"
   },
   "outputs": [],
   "source": []
  }
 ],
 "metadata": {
  "colab": {
   "collapsed_sections": [],
   "name": "Backtesting strategies using MACD,RSI, Golden Cross, Multiple_Strategy.ipynb",
   "provenance": []
  },
  "kernelspec": {
   "display_name": "Python 3",
   "language": "python",
   "name": "python3"
  },
  "language_info": {
   "codemirror_mode": {
    "name": "ipython",
    "version": 3
   },
   "file_extension": ".py",
   "mimetype": "text/x-python",
   "name": "python",
   "nbconvert_exporter": "python",
   "pygments_lexer": "ipython3",
   "version": "3.9.4"
  }
 },
 "nbformat": 4,
 "nbformat_minor": 1
}
